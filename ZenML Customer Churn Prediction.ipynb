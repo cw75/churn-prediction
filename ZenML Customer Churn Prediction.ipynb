{
 "cells": [
  {
   "cell_type": "code",
   "execution_count": null,
   "id": "4dff0960-95f2-4e43-9c01-7409fbb12c3f",
   "metadata": {},
   "outputs": [],
   "source": [
    "import pandas as pd\n",
    "import numpy as np\n",
    "\n",
    "# Read some customer data from the Aqueduct repo.\n",
    "customers_table = pd.read_csv(\n",
    "    \"https://raw.githubusercontent.com/aqueducthq/aqueduct/main/examples/churn_prediction/data/customers.csv\"\n",
    ")\n",
    "churn_table = pd.read_csv(\n",
    "    \"https://raw.githubusercontent.com/aqueducthq/aqueduct/main/examples/churn_prediction/data/churn_data.csv\"\n",
    ")\n",
    "pd.merge(customers_table, churn_table, on=\"cust_id\").head()"
   ]
  },
  {
   "cell_type": "code",
   "execution_count": null,
   "id": "dd3f50bd",
   "metadata": {},
   "outputs": [],
   "source": [
    "from zenml.steps import step"
   ]
  },
  {
   "cell_type": "code",
   "execution_count": null,
   "id": "e8960448-0658-4bfc-aac6-f87fa9b415af",
   "metadata": {},
   "outputs": [],
   "source": [
    "# The @op decorator here allows Aqueduct to run this function as\n",
    "# a part of an Aqueduct workflow. It tells Aqueduct that when\n",
    "# we execute this function, we're defining a step in the workflow.\n",
    "# While the results can be retrieved immediately, nothing is\n",
    "# published until we call `publish_flow()` below.\n",
    "@step\n",
    "def log_featurize(cust: pd.DataFrame) -> pd.DataFrame:\n",
    "    \"\"\"\n",
    "    log_featurize takes in customer data from the Aqueduct customers table\n",
    "    and log normalizes the numerical columns using the numpy.log function.\n",
    "    It skips the cust_id, using_deep_learning, and using_dbt columns because\n",
    "    these are not numerical columns that require regularization.\n",
    "\n",
    "    log_featurize adds all the log-normalized values into new columns, and\n",
    "    maintains the original values as-is. In addition to the original company_size\n",
    "    column, log_featurize will add a log_company_size column.\n",
    "    \"\"\"\n",
    "    features = cust.copy()\n",
    "    skip_cols = [\"cust_id\", \"using_deep_learning\", \"using_dbt\"]\n",
    "\n",
    "    for col in features.columns.difference(skip_cols):\n",
    "        features[\"log_\" + col] = np.log(features[col] + 1.0)\n",
    "\n",
    "    return features.drop(columns=\"cust_id\")"
   ]
  },
  {
   "cell_type": "code",
   "execution_count": null,
   "id": "3e6f4d6b-7795-4043-b724-d2f9fe5483b3",
   "metadata": {},
   "outputs": [],
   "source": [
    "# Calling `.local()` on an @op-annotated function allows us to execute the\n",
    "# function locally for testing purposes. When a function is called with\n",
    "# `.local()`, Aqueduct does not capture the function execution as a part of\n",
    "# the definition of a workflow.\n",
    "features_table = log_featurize.entrypoint(customers_table)\n",
    "features_table.head()"
   ]
  },
  {
   "cell_type": "markdown",
   "id": "ac199805-fe08-496e-b282-84710439df39",
   "metadata": {},
   "source": [
    "### Training the Model\n",
    "\n",
    "In this example, we will train and ensemble two basic classifiers.  In practice, would probably do something more interesting but this will help illustrate post-processing logic (the ensemble function)."
   ]
  },
  {
   "cell_type": "code",
   "execution_count": null,
   "id": "8b0e7700-0424-4c34-b3bf-e1c4f9606363",
   "metadata": {},
   "outputs": [],
   "source": [
    "from sklearn.linear_model import LogisticRegression\n",
    "\n",
    "linear_model = LogisticRegression(max_iter=10000)\n",
    "linear_model.fit(features_table, churn_table[\"churn\"])"
   ]
  },
  {
   "cell_type": "code",
   "execution_count": null,
   "id": "d24a67e5",
   "metadata": {},
   "outputs": [],
   "source": [
    "from sklearn.tree import DecisionTreeClassifier\n",
    "\n",
    "decision_tree_model = DecisionTreeClassifier(max_depth=10, min_samples_split=3)\n",
    "decision_tree_model.fit(features_table, churn_table[\"churn\"])"
   ]
  },
  {
   "cell_type": "code",
   "execution_count": null,
   "id": "1fd5d055",
   "metadata": {},
   "outputs": [],
   "source": [
    "@step\n",
    "def data_loader() -> pd.DataFrame:\n",
    "    # Read some customer data from the Aqueduct repo.\n",
    "    customers_table = pd.read_csv(\n",
    "        \"https://raw.githubusercontent.com/aqueducthq/aqueduct/main/examples/churn_prediction/data/customers.csv\"\n",
    "    )\n",
    "    \n",
    "    return customers_table\n",
    "\n",
    "@step\n",
    "def predict_linear(features_table: pd.DataFrame) -> pd.DataFrame:\n",
    "    \"\"\"\n",
    "    Generates predictions using the logistic regression model and\n",
    "    returns a new DataFrame with a column called linear that has\n",
    "    the likelihood of the customer churning.\n",
    "    \"\"\"\n",
    "    return pd.DataFrame({\"linear\": linear_model.predict_proba(features_table)[:, 1]})\n",
    "\n",
    "@step\n",
    "def predict_tree(features_table: pd.DataFrame) -> pd.DataFrame:\n",
    "    \"\"\"\n",
    "    Generates predictions using the decision tree model and\n",
    "    returns a new DataFrame with a column called tree that has\n",
    "    the likelihood of the customer churning.\n",
    "    \"\"\"\n",
    "    return pd.DataFrame({\"tree\": decision_tree_model.predict_proba(features_table)[:, 1]})\n",
    "\n",
    "@step\n",
    "def predict_ensemble(customers_table: pd.DataFrame, linear_pred_table: pd.DataFrame, tree_pred_table: pd.DataFrame) -> pd.DataFrame:\n",
    "    \"\"\"\n",
    "    predict_ensemble combines the results from our logistic regression\n",
    "    and decision tree models by taking the average of the two models'\n",
    "    probabilities that a user might churn. The resulting average is\n",
    "    then assigned into the `prob_churn` column on the customers_table.\n",
    "    \"\"\"\n",
    "    return customers_table.assign(prob_churn=linear_pred_table.join(tree_pred_table).mean(axis=1))"
   ]
  },
  {
   "cell_type": "code",
   "execution_count": null,
   "id": "c5742d09",
   "metadata": {},
   "outputs": [],
   "source": [
    "from zenml.pipelines import pipeline\n",
    "\n",
    "\n",
    "@pipeline(enable_cache=False)\n",
    "def churn_ensemble_cgwu(\n",
    "    data_loader,\n",
    "    log_featurize,\n",
    "    predict_linear,\n",
    "    predict_tree,\n",
    "    predict_ensemble,\n",
    "):\n",
    "    customers_table = data_loader()\n",
    "    features_table = log_featurize(customers_table)\n",
    "    linear_pred_table = predict_linear(features_table)\n",
    "    tree_pred_table = predict_tree(features_table)\n",
    "    predict_ensemble(customers_table, linear_pred_table, tree_pred_table)"
   ]
  },
  {
   "cell_type": "code",
   "execution_count": null,
   "id": "4f13c003",
   "metadata": {},
   "outputs": [],
   "source": [
    "churn_ensemble(\n",
    "    data_loader=data_loader(),\n",
    "    log_featurize=log_featurize(),\n",
    "    predict_linear=predict_linear(),\n",
    "    predict_tree=predict_tree(),\n",
    "    predict_ensemble=predict_ensemble(),\n",
    ").run()"
   ]
  }
 ],
 "metadata": {
  "kernelspec": {
   "display_name": "Python 3 (ipykernel)",
   "language": "python",
   "name": "python3"
  },
  "language_info": {
   "codemirror_mode": {
    "name": "ipython",
    "version": 3
   },
   "file_extension": ".py",
   "mimetype": "text/x-python",
   "name": "python",
   "nbconvert_exporter": "python",
   "pygments_lexer": "ipython3",
   "version": "3.10.6"
  },
  "vscode": {
   "interpreter": {
    "hash": "916dbcbb3f70747c44a77c7bcd40155683ae19c65e1c03b4aa3499c5328201f1"
   }
  }
 },
 "nbformat": 4,
 "nbformat_minor": 5
}
